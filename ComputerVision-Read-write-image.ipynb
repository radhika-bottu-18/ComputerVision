{
 "cells": [
  {
   "cell_type": "code",
   "execution_count": 2,
   "id": "f82260c7-ae31-498f-bd45-28a76b43a558",
   "metadata": {},
   "outputs": [],
   "source": [
    "import cv2"
   ]
  },
  {
   "cell_type": "code",
   "execution_count": 3,
   "id": "30b9fb83-fb86-48f0-9eee-5acaccdfcc62",
   "metadata": {},
   "outputs": [],
   "source": [
    "import numpy as np"
   ]
  },
  {
   "cell_type": "code",
   "execution_count": 4,
   "id": "33beeefd-000b-4bf3-bdb2-7d54d65cbc64",
   "metadata": {},
   "outputs": [],
   "source": [
    "input = cv2.imread(r'C:\\Users\\Sushal\\Desktop\\misc-links\\horse.jpg')"
   ]
  },
  {
   "cell_type": "code",
   "execution_count": 5,
   "id": "45385319-b414-4d3b-858f-dee02fd4a6b2",
   "metadata": {},
   "outputs": [
    {
     "data": {
      "text/plain": [
       "array([[[ 31,  33,  33],\n",
       "        [ 31,  34,  32],\n",
       "        [ 28,  31,  29],\n",
       "        ...,\n",
       "        [250, 255, 254],\n",
       "        [249, 255, 250],\n",
       "        [246, 255, 245]],\n",
       "\n",
       "       [[ 31,  33,  33],\n",
       "        [ 31,  33,  33],\n",
       "        [ 28,  31,  29],\n",
       "        ...,\n",
       "        [250, 255, 254],\n",
       "        [248, 255, 249],\n",
       "        [246, 255, 245]],\n",
       "\n",
       "       [[ 31,  33,  33],\n",
       "        [ 31,  33,  33],\n",
       "        [ 28,  31,  29],\n",
       "        ...,\n",
       "        [250, 255, 254],\n",
       "        [250, 255, 251],\n",
       "        [250, 255, 249]],\n",
       "\n",
       "       ...,\n",
       "\n",
       "       [[ 30,  30,  30],\n",
       "        [ 28,  28,  28],\n",
       "        [ 43,  43,  43],\n",
       "        ...,\n",
       "        [ 31,  31,  31],\n",
       "        [ 31,  31,  31],\n",
       "        [ 31,  31,  31]],\n",
       "\n",
       "       [[ 36,  36,  36],\n",
       "        [ 22,  22,  22],\n",
       "        [ 34,  34,  34],\n",
       "        ...,\n",
       "        [ 33,  33,  33],\n",
       "        [ 33,  33,  33],\n",
       "        [ 33,  33,  33]],\n",
       "\n",
       "       [[ 33,  33,  33],\n",
       "        [ 32,  32,  32],\n",
       "        [ 26,  26,  26],\n",
       "        ...,\n",
       "        [ 33,  33,  33],\n",
       "        [ 33,  33,  33],\n",
       "        [ 33,  33,  33]]], dtype=uint8)"
      ]
     },
     "execution_count": 5,
     "metadata": {},
     "output_type": "execute_result"
    }
   ],
   "source": [
    "input"
   ]
  },
  {
   "cell_type": "code",
   "execution_count": 6,
   "id": "e8e58d01-3257-471d-bb8c-29f09acb0c8b",
   "metadata": {},
   "outputs": [],
   "source": [
    "cv2.imshow('elephant',input)\n",
    "cv2.waitKey()\n",
    "cv2.destroyAllWindows()"
   ]
  },
  {
   "cell_type": "code",
   "execution_count": 8,
   "id": "d9adb0ff-32cb-4a43-88da-82e9c47cdfe4",
   "metadata": {},
   "outputs": [
    {
     "name": "stdout",
     "output_type": "stream",
     "text": [
      "Height of Image:  534 pixels\n",
      "Width of Image:  855 pixels\n"
     ]
    }
   ],
   "source": [
    "print('Height of Image: ',int(input.shape[0]),'pixels')\n",
    "print('Width of Image: ',int(input.shape[1]),'pixels')"
   ]
  },
  {
   "cell_type": "code",
   "execution_count": 9,
   "id": "7b8dffa4-ce18-454c-a52c-52b3f6bee63b",
   "metadata": {},
   "outputs": [
    {
     "data": {
      "text/plain": [
       "True"
      ]
     },
     "execution_count": 9,
     "metadata": {},
     "output_type": "execute_result"
    }
   ],
   "source": [
    "cv2.imwrite('output.jpg',input)"
   ]
  },
  {
   "cell_type": "code",
   "execution_count": 10,
   "id": "ff6fa443-ae23-4fcd-8444-14dd8a4f59e9",
   "metadata": {},
   "outputs": [
    {
     "data": {
      "text/plain": [
       "'C:\\\\Users\\\\Sushal'"
      ]
     },
     "execution_count": 10,
     "metadata": {},
     "output_type": "execute_result"
    }
   ],
   "source": [
    "import os \n",
    "os.getcwd()"
   ]
  },
  {
   "cell_type": "code",
   "execution_count": null,
   "id": "b3943705-aa69-4ea6-80b7-4fa9e2184b8b",
   "metadata": {},
   "outputs": [],
   "source": []
  }
 ],
 "metadata": {
  "kernelspec": {
   "display_name": "Python 3 (ipykernel)",
   "language": "python",
   "name": "python3"
  },
  "language_info": {
   "codemirror_mode": {
    "name": "ipython",
    "version": 3
   },
   "file_extension": ".py",
   "mimetype": "text/x-python",
   "name": "python",
   "nbconvert_exporter": "python",
   "pygments_lexer": "ipython3",
   "version": "3.10.16"
  }
 },
 "nbformat": 4,
 "nbformat_minor": 5
}
