{
 "cells": [
  {
   "cell_type": "code",
   "execution_count": 1,
   "id": "392c6568-56c0-4966-b1ad-838e0f59fe9e",
   "metadata": {},
   "outputs": [],
   "source": [
    "import numpy as np\n",
    "import cv2"
   ]
  },
  {
   "cell_type": "code",
   "execution_count": 2,
   "id": "4619ea4d-1e15-46f2-8e30-8c63aef4aeb2",
   "metadata": {},
   "outputs": [],
   "source": [
    "face_classifier = cv2.CascadeClassifier(r'D:\\DataScienceAndAICourse\\May-NLP\\ComputerVision\\opencv\\Haarcascades\\haarcascade_frontalface_default.xml')"
   ]
  },
  {
   "cell_type": "code",
   "execution_count": 3,
   "id": "767a3772-5b21-4755-855c-d1180e33fa95",
   "metadata": {},
   "outputs": [],
   "source": [
    "image = cv2.imread(r'D:\\mypics\\modi.jpg')"
   ]
  },
  {
   "cell_type": "code",
   "execution_count": 4,
   "id": "2b46a4bf-94d1-4c5d-a65e-d7b28ae989cf",
   "metadata": {},
   "outputs": [],
   "source": [
    "cv2.imshow('Modi',image)\n",
    "cv2.waitKey(0)\n",
    "cv2.destroyAllWindows()"
   ]
  },
  {
   "cell_type": "code",
   "execution_count": 5,
   "id": "4a4008ba-1ba2-48b9-85fc-a97b3b5a45f5",
   "metadata": {},
   "outputs": [],
   "source": [
    "gray =cv2.cvtColor(image,cv2.COLOR_BGR2GRAY)"
   ]
  },
  {
   "cell_type": "code",
   "execution_count": 6,
   "id": "4a33ed25-15b2-4190-b949-42798d8b19be",
   "metadata": {},
   "outputs": [
    {
     "data": {
      "text/plain": [
       "array([[255, 255, 255, ..., 255, 255, 255],\n",
       "       [255, 255, 255, ..., 255, 255, 255],\n",
       "       [255, 255, 255, ..., 255, 255, 255],\n",
       "       ...,\n",
       "       [255, 255, 255, ..., 255, 255, 255],\n",
       "       [255, 255, 255, ..., 255, 255, 255],\n",
       "       [255, 255, 255, ..., 255, 255, 255]], dtype=uint8)"
      ]
     },
     "execution_count": 6,
     "metadata": {},
     "output_type": "execute_result"
    }
   ],
   "source": [
    "gray"
   ]
  },
  {
   "cell_type": "code",
   "execution_count": 7,
   "id": "1541e7aa-ed8b-4b4d-bae3-6ca7cee8297f",
   "metadata": {},
   "outputs": [],
   "source": [
    "cv2.imshow('Modi',gray)\n",
    "cv2.waitKey(0)\n",
    "cv2.destroyAllWindows()"
   ]
  },
  {
   "cell_type": "code",
   "execution_count": 8,
   "id": "50e52be5-7f82-436c-8e64-6f3f8583ca53",
   "metadata": {},
   "outputs": [
    {
     "name": "stderr",
     "output_type": "stream",
     "text": [
      "<>:2: SyntaxWarning: \"is\" with a literal. Did you mean \"==\"?\n",
      "<>:2: SyntaxWarning: \"is\" with a literal. Did you mean \"==\"?\n",
      "C:\\Users\\Sushal\\AppData\\Local\\Temp\\ipykernel_10140\\758934229.py:2: SyntaxWarning: \"is\" with a literal. Did you mean \"==\"?\n",
      "  if faces is ():\n"
     ]
    }
   ],
   "source": [
    "faces = face_classifier.detectMultiScale(gray,1.3,5)\n",
    "if faces is ():\n",
    "    print('No faces found')\n",
    "\n",
    "for (x,y,w,h) in faces:\n",
    "    cv2.rectangle(image,(x,y),(x+w,y+h),(127,0,255),2)\n",
    "    cv2.imshow('Face Detection',image)\n",
    "    cv2.waitKey(0)\n",
    "cv2.destroyAllWindows()"
   ]
  },
  {
   "cell_type": "code",
   "execution_count": null,
   "id": "824fbaf2-f2ba-49d8-84ab-ea9996db43be",
   "metadata": {},
   "outputs": [
    {
     "name": "stderr",
     "output_type": "stream",
     "text": [
      "<>:10: SyntaxWarning: \"is\" with a literal. Did you mean \"==\"?\n",
      "<>:10: SyntaxWarning: \"is\" with a literal. Did you mean \"==\"?\n",
      "C:\\Users\\Sushal\\AppData\\Local\\Temp\\ipykernel_988\\847024699.py:10: SyntaxWarning: \"is\" with a literal. Did you mean \"==\"?\n",
      "  if faces is ():\n"
     ]
    }
   ],
   "source": [
    "import cv2 \n",
    "import numpy as np \n",
    "\n",
    "face_classifier = cv2.CascadeClassifier(r'D:\\DataScienceAndAICourse\\May-NLP\\ComputerVision\\opencv\\Haarcascades\\haarcascade_frontalface_default.xml')\n",
    "eye_classifier= cv2.CascadeClassifier(r'D:\\DataScienceAndAICourse\\May-NLP\\ComputerVision\\opencv\\Haarcascades\\haarcascade_eye.xml')\n",
    "\n",
    "def face_detector(img,size=0.5):\n",
    "    gray=cv2.cvtColor(img,cv2.COLOR_BGR2GRAY)\n",
    "    faces = face_classifier.detectMultiScale(gray,1.3,5)\n",
    "    if faces is ():\n",
    "        return img\n",
    "    for (x,y,w,h) in faces:\n",
    "        x=x-50\n",
    "        w=w+50\n",
    "        y=y-50\n",
    "        h=h+50\n",
    "        cv2.rectangle(img,(x,y),(x+w,y+h),(255,0,0),2)\n",
    "        roi_gray = gray[y:y+h,x:x+w]\n",
    "        roi_color = img[y:y+h,x:x+w]\n",
    "        eyes = eye_classifier.detectMultiScale(roi_gray)\n",
    "\n",
    "        for (ex,ey,ew,eh) in eyes:\n",
    "            cv2.rectangle(roi_color,(ex,ey),(ex+ew,ey+eh),(0,0,255),2)\n",
    "        roi_color = cv2.flip(roi_color,1)\n",
    "        return roi_color\n",
    "\n",
    "cap = cv2.VideoCapture(0)\n",
    "\n",
    "while True:\n",
    "    ret,frame = cap.read()\n",
    "    cv2.imshow('Our Face EXtractor',face_detector(frame))\n",
    "    if cv2.waitKey(1) == 13: \n",
    "        break\n",
    "cap.release()\n",
    "cv2.destroyAllWindows()"
   ]
  },
  {
   "cell_type": "code",
   "execution_count": null,
   "id": "151aeecc-c149-4124-b812-1024a2024186",
   "metadata": {},
   "outputs": [],
   "source": []
  }
 ],
 "metadata": {
  "kernelspec": {
   "display_name": "Python 3 (ipykernel)",
   "language": "python",
   "name": "python3"
  },
  "language_info": {
   "codemirror_mode": {
    "name": "ipython",
    "version": 3
   },
   "file_extension": ".py",
   "mimetype": "text/x-python",
   "name": "python",
   "nbconvert_exporter": "python",
   "pygments_lexer": "ipython3",
   "version": "3.10.16"
  }
 },
 "nbformat": 4,
 "nbformat_minor": 5
}
